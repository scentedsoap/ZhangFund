{
 "cells": [
  {
   "cell_type": "markdown",
   "metadata": {},
   "source": [
    "# Retail Industry"
   ]
  },
  {
   "cell_type": "markdown",
   "metadata": {},
   "source": [
    "Notes from IBIS (Grace Wood)\n",
    "\n",
    "* The Retail Industry is a mature industry because it is a consistent contributor to the US economy, although the rise of e-commerce has accelerated retail sales, causing a slight outpace of GDP growth"
   ]
  },
  {
   "cell_type": "markdown",
   "metadata": {},
   "source": [
    "which comprises men's (44811), women's (44812), children's (44813) and family (44814) clothing stores; lingerie, swimwear and bridal stores (44819); shoe stores (44821); jewelry stress (44831); and handbag, luggage and accessory stores (44833).\n",
    "\n",
    "The remainder of the Retail Trade sector is composed primarily of specialized brick-and-mortar consumer goods industries, like sporting goods stores (45111)"
   ]
  },
  {
   "cell_type": "markdown",
   "metadata": {},
   "source": [
    "These subsectors are primarily driven by macroeconomic trends, including per capita disposable income and consumer spending. When consumers have more money on hand, they're more likely to make new or additional purchases of nonessential goods, sometimes even opting for higher-end and costlier varieties."
   ]
  },
  {
   "cell_type": "markdown",
   "metadata": {},
   "source": [
    "even though the % of retail sales from people that are under 25 represent the lowest amount of sales in the retail market, Retailers still try to target them to win them over when they are more mature and have spending power!"
   ]
  },
  {
   "cell_type": "markdown",
   "metadata": {},
   "source": [
    "Location:\n",
    "* Southeast\n",
    "* Mid Atlantic\n",
    "* West\n",
    "\n",
    "Retailers think about their demographic and who they are trying to target when considering retail locations.\n",
    "They also consider the infrastructure around (highways, ports, airports) their retail location"
   ]
  },
  {
   "cell_type": "markdown",
   "metadata": {},
   "source": [
    "* The vast number of industries and subsectors within the Retail Trade sector ensures that no single company dominates. Walmart is the largest retailer since it sells such a wide range of goods, including outdoor cooking equipment, children's toys and groceries."
   ]
  },
  {
   "cell_type": "markdown",
   "metadata": {},
   "source": [
    "## Supply Chain of Retail Trade Industry\n",
    "\n",
    "Suppliers\n",
    "\n",
    "2nd Tier\n",
    "\n",
    "* Manufacturing\n",
    "* Agriculture, Forestry, Fishing and Hunting\n",
    "\n",
    "1st Tier\n",
    "\n",
    "* Wholesale Trade\n",
    "* Manufacturing\n",
    "* Transportation and Warehousing"
   ]
  },
  {
   "cell_type": "markdown",
   "metadata": {},
   "source": [
    "## External Factors\n",
    "\n",
    "* Per Capita Disposable Income \n",
    "    * BEA defines Disposable Income as how much a person has avaiable to be used to spend or save! \n",
    "    * IBIS defines Disposable Income as how much a person has avaiable to be used to spend net the savings and taxes \n",
    "* Consumer Confidence Index\n",
    "* Consumer Spending \n",
    "    * Measured with PCE\n",
    "* Population Growth\n",
    "* Number of households"
   ]
  },
  {
   "cell_type": "markdown",
   "metadata": {},
   "source": [
    "## Cost Structure\n",
    "\n",
    "Most of the costs within the Retail Trade Industry is related to purchasing goods (from manufacturers, or wholesalers)"
   ]
  },
  {
   "cell_type": "markdown",
   "metadata": {},
   "source": [
    "# Relevent NAICS Industries (In the United States) \n",
    "\n",
    "### Retail Trade\n",
    "\n",
    "* Women's Clothing Stores\n",
    "* Men's Clothing Stores \n",
    "* Family Clothing Stores\n",
    "* Children's & Infants' Clothing Stores\n",
    "* Department Stores (45211)\n",
    "* Lingerie, Swimwear, Bridal\n",
    "* Shoe Stores\n",
    "\n",
    "### Wholesale Trade\n",
    "\n",
    "### Manufacturing\n",
    "\n",
    "* Cut and Sew Apparel Manufacturing (except Contractors) 315250 \n",
    "\n",
    "### Specialized Industries\n",
    "\n",
    "Online Retail\n",
    "* Online Original Design T-Shirt Sales (OD5439)\n",
    "* Online Designer Clothing Sales (OD5436)\n",
    "* Online Men's Clothing Sales (OD5095)\n",
    "* Online Shoe Sales (OD5093)\n",
    "* Online Sporting Apparel Sales (OD5647)\n",
    "\n",
    "### Warehousing and Logistics\n",
    "\n"
   ]
  },
  {
   "cell_type": "markdown",
   "metadata": {},
   "source": [
    "## Family Clothing Stores in the US\n",
    "\n",
    "Children's clothing stores may not be viewed as discretionary because children grow out of their old clothes!!!"
   ]
  },
  {
   "cell_type": "markdown",
   "metadata": {},
   "source": [
    "## Cut Sew Manufacturing 315250 (Domestic in US)\n",
    "\n",
    "Author: Alexia Moreno Zambrano\n",
    "\n",
    "At A glance:\n",
    "\n",
    "* Cut and Sew Manufacturing takes finished fabrics and turns them into clothes\n",
    "* US domestic Apparel Manufacturing is a declining industry as more production is shifted overseas\n",
    "    * but there seems to be a shift in clothing manufacturing as consumers become more enviromentally concious with the labor and standards for the clothes\n",
    "    * Weakening US dollar could make domestic clothing production cheaper for international brands???\n",
    "* The most popular type of clothing in the US by revenue is dresses!\n",
    "\n",
    "Key Performance Indicators:\n",
    "\n",
    "* Revenue: ~5.7 billion in 2023\n",
    "* Profit : ~217 million in 2023\n",
    "* Margin: 3.8%\n",
    "* 1,544 businesses in the Industry\n",
    "\n",
    "Performance Snapshot:\n",
    "\n",
    "* ~90% of all domestic (US) apparel goods are produced overseas\n",
    "    * 97% of all apparel goods are produced overseas according AAFA (don't have access)\n",
    "    * https://sourcingjournal.com/topics/lifestyle-monitor/made-in-usa-fashion-grown-and-sewn-rob-magness-gitman-bros-353188/ \n",
    "* The Value of dollar definitely has an effect on the retail industry!!!\n",
    "* Covid caused retailers to close their stores, but still had strong ecommerce presence\n",
    "    * slowdown in sales effected the US manufacturing industry\n",
    "\n",
    "Volatiltiy in the Industry:\n",
    "\n",
    "* The cut & sew apparel manufacturing industry can be prone to volaility due to changes in fashion trends!!\n",
    "* Low-cost, high-volume, fast fashion retailers demand quantity over quality and source internationally for cheaper costs\n",
    "\n",
    "How Can Businesses overcome volatility???\n",
    "\n",
    "* Economies of Scale: Achieve the lowest marginal cost for each article of clothing\n",
    "    * the cost of producing clothes becomes very small\n",
    "* Flexible production that can quickly adapt to changing fashion trends\n",
    "\n",
    "Outlook:\n",
    "\n",
    "* Rising Labor Costs in China, Bangladesh, and Pakistan will cause manufacturers to look for other alternatives!!!\n",
    "* Return-to-office plans may boost demand for formal wear\n",
    "\n",
    "Product Breakdown:\n",
    "\n",
    "* Dresses are the most popular production products by US Manufactures\n",
    "* Tops (T-shirts, blouses, button ups) are the 2nd most popular\n",
    "* Bottoms (Pants, Shorts, Skirts) are the 3rd most popular \n",
    "* People purchase and have more Tops compared to Bottoms!!! <- IBIS world\n",
    "* Formal Wear (Suits, Jackets) are falling out of fashion as corporate wear becomes more casual\n",
    "* Sports and leisure wear grows amid the pandemic\n",
    "* Tailored and luxury items have been able to increase their share of revenue in the US because they are less susceptible to competition from imports!\n",
    "    * But consumers may prefer higher quality European Products as opposed to products made in America!!!\n",
    "\n",
    "### Supply Chain\n",
    "\n",
    "Suppliers:\n",
    "\n",
    "1st Tier\n",
    "* Industrial Machinery\n",
    "* Industrial Building\n",
    "* Synthetic Fiber Manufacturing\n",
    "* Dye & Pigment Manufacturing\n",
    "* Textile Mills \n",
    "\n",
    "2nd Tier\n",
    "* Cotton Farming\n",
    "* Sheep Farming\n",
    "* Crop Services\n",
    "* Printing, Paper, Food, Textile & Other Machinery!!!\n",
    "\n",
    "Buyers:\n",
    "\n",
    "1st Tier\n",
    "* Apparel Wholesaling (Mens, Womens, Children)\n",
    "* Clothing & Clothing Accessories Wholesaling\n",
    "\n",
    "2nd Tier:\n",
    "\n",
    "* Men's Clothing Stores\n",
    "* Womens' Clothing Stores\n",
    "* Children's & Infants clothing\n",
    "* Family Clothing Stores\n",
    "* Lingerie, Swimwear & Bridal Stores\n",
    "* Department Stores\n",
    "* Warehouse Clubs & Supercenters\n",
    "\n"
   ]
  },
  {
   "cell_type": "markdown",
   "metadata": {},
   "source": [
    "## Global Apparel Manufacturing\n",
    "\n",
    "### At A Glance:\n",
    "\n",
    "Global Apparel Manufacturing is an estimated 780 billion dollar industry with 7.4% profit margin! China itself produces more than 50% of the entire world's clothing!!!\n",
    "\n",
    "This is starting to change due to instability in China and brands are moving to other countries like Bangladesh and Vietnam!!!\n",
    "\n",
    "### Current Performance\n",
    "\n",
    "* Manufactuers are taking baby steps towards sustainability, less than 11% of clothes are made with eco-friendly materials (according to EPA)\n",
    "\n",
    "Prodcut/Market Breakdown:\n",
    "\n",
    "Global Product ->\n",
    "\n",
    "* women account for more than 50% of clothing consumption\n",
    "* then comes men\n",
    "* and then children\n",
    "* and then accessories\n",
    "\n",
    "Sustainability is marketed towards developed economies, as less developed economies don't really care?!?\n",
    "\n",
    "Global Market:\n",
    "\n",
    "* US is the largest market for clothing globally (3rd most populous country)\n",
    "    * accounts for nearly 23% of global sales\n",
    "    * rising incomes in the US combined with high household consumption leads the US to be the larger consumer market worldwide <- according to World Bank\n",
    "    * The US is also the largest importer of clothing globally\n",
    "* China is the second largest market for clothing and is also the biggest producer of clothing\n",
    "    * China has the largest population in the world\n",
    "    * Economic Development in China has increased disposable Income to allow more purchasing of discretionary items like clothing\n",
    "    * Trump tarrif on clothing imports, still share of clothing imported from China in the US has only grown!!!\n",
    "    * China exports more than 1/3 of the global apparel production\n",
    "\n",
    "Competitive Forces:\n",
    "\n",
    "* There are lots of Apparel Manufacturers in the world ranging for large to small\n",
    "* This market is very competitive due to the diverse nature of apparel and cultures\n",
    "    * really difficult for manufactureres to gain market share!!!\n",
    "* There are no substitutes for Apparel Manufacturing as this is a necessity around the world!!!\n",
    "\n",
    "Buyer and Supplier Power\n",
    "\n",
    "Companies:\n",
    "\n",
    "Top 3 manufactuers are all located in China!\n",
    "\n",
    "* Bosideng International Holdings Limited\n",
    "* Heilan Group\n",
    "* Youngor Group"
   ]
  },
  {
   "cell_type": "markdown",
   "metadata": {},
   "source": [
    "## US Census Bureau\n",
    "\n",
    "Population Estimate in July 2023: 334.914 million people\n",
    "\n",
    "Actual Population recorded on April 1, 2020: 331,.449 million people\n",
    "\n",
    "Households (2018-2022): 125.736 million households\n",
    "\n",
    "Should retailers consider these metrics?!?"
   ]
  },
  {
   "cell_type": "markdown",
   "metadata": {},
   "source": [
    "## Trade Associations\n",
    "\n",
    "First of all, what are these?\n",
    "\n",
    "* The National Retail Federation\n",
    "* The American Apparel and Footwear Association"
   ]
  },
  {
   "cell_type": "markdown",
   "metadata": {},
   "source": [
    "# Key Questions To Ask\n",
    "\n",
    "* what are the different industries involved in the fashion scene?\n",
    "* What are the key value drivers in each of these industries\n",
    "* What is the most popular type of fashion in terms of sales (Athlesuire, Formal, Casual, Jeans)?\n",
    "* What is the Demographic of people who buy the most stuff?\n",
    "* What % of a person's closet is allocated to what types of apparel, accessories, and footwear?\n",
    "* What % of a person's closet is alloacted to a specific type of retailer (second hand, mid-price, discount, Amazon)\n",
    "* What causes a currency to appreciate?\n",
    "* Why does an appreciating dollar harm exports?\n",
    "* What is Purchasing Power Parity?!?\n",
    "\n"
   ]
  },
  {
   "cell_type": "markdown",
   "metadata": {},
   "source": [
    "Companies To Look At\n",
    "\n",
    "* VFC \n",
    "* The Children's Place\n",
    "* Carter's\n",
    "* Bread Financial\n"
   ]
  }
 ],
 "metadata": {
  "language_info": {
   "name": "python"
  }
 },
 "nbformat": 4,
 "nbformat_minor": 2
}
