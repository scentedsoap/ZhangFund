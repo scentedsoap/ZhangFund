{
 "cells": [
  {
   "cell_type": "code",
   "execution_count": 5,
   "metadata": {},
   "outputs": [],
   "source": [
    "import numpy as np\n",
    "from bs4 import BeautifulSoup, Comment\n",
    "import requests\n",
    "import re\n",
    "import copy\n",
    "import webscraper\n",
    "header = {\"User-Agent\": \"bzhang14@umd.edu\"}"
   ]
  },
  {
   "cell_type": "code",
   "execution_count": 33,
   "metadata": {},
   "outputs": [],
   "source": [
    "def json_submission_scraper(cik:str, form_type:str):\n",
    "    \n",
    "    \"\"\"\n",
    "    Scrape The JSON File That Has All The Information About Files That Have Been Submitted To EDGAR.\n",
    "    \"\"\"\n",
    "\n",
    "    header = {\"User-Agent\": \"bzhang14@umd.edu\"}\n",
    "    url_to_json = generate_json_submission_url(cik)\n",
    "\n",
    "    req = requests.get(url_to_json, headers=header)\n",
    "    submissions_json = req.json()\n",
    "\n",
    "    recent_filings = submissions_json[\"filings\"][\"recent\"]  # recent filings\n",
    "\n",
    "    # the non-recent filings are not stored in the same JSON file so we need to\n",
    "    # get those from another JSON file that is stored in the one that was just requested\n",
    "    nonrecent_filings_name = submissions_json[\"filings\"][\"files\"][0][\"name\"]\n",
    "    nonrecent_filings_url = generate_json_submission_url(is_recent_submission=False,\n",
    "                                                          name=nonrecent_filings_name)\n",
    "    \n",
    "    req = requests.get(nonrecent_filings_url, headers=header)\n",
    "    non_recent_submissions_json = req.json()\n",
    "    non_recent_filings = non_recent_submissions_json\n",
    "\n",
    "    recent_filing_dates, recent_path_to_documents = find_forms(recent_filings, form_type)\n",
    "    nonrecent_filing_dates, nonrecent_path_to_documents = find_forms(non_recent_filings, form_type)\n",
    "\n",
    "    print(type(recent_path_to_documents))\n",
    "    print(type(nonrecent_path_to_documents))\n",
    "\n",
    "    path_to_documents = np.concatenate((recent_path_to_documents, nonrecent_path_to_documents))\n",
    "    filing_dates = np.concatenate((recent_filing_dates, nonrecent_filing_dates))\n",
    "\n",
    "    urls = generate_EDGAR_directory_listing_url(cik, path_to_documents)\n",
    "    print(urls)\n",
    "\n",
    "    return urls\n",
    "\n",
    "def find_forms(filings: list[str], form_type:str):\n",
    "    \n",
    "    forms = np.array(filings[\"form\"])\n",
    "    accession_numbers = np.array([filing + \"/\" for filing in filings[\"accessionNumber\"]])\n",
    "    document_names = np.array(filings[\"primaryDocument\"])\n",
    "    filing_dates = np.array(filings[\"filingDate\"])\n",
    "\n",
    "    indexes = np.where(forms == form_type)\n",
    "    form_accession_numbers = accession_numbers[indexes]\n",
    "    form_document_names = document_names[indexes]\n",
    "\n",
    "    form_accession_numbers = np.char.replace(form_accession_numbers, \"-\", \"\")\n",
    "    path_to_documents = np.char.add(form_accession_numbers, form_document_names)\n",
    "\n",
    "    return filing_dates, path_to_documents\n",
    "\n",
    "    \n",
    "def generate_json_submission_url(cik:str = \"\", is_recent_submission:bool = True, \n",
    "                                    name:str = None):\n",
    "    \n",
    "    base_url = \"https://data.sec.gov/submissions/\"\n",
    "    \n",
    "    cik_length = len(cik)\n",
    "    num_leading_zeros = 10 - cik_length\n",
    "    leading_zeros = num_leading_zeros * \"0\"\n",
    "    leading_zeros_cik = leading_zeros + cik\n",
    "\n",
    "    if is_recent_submission:                                    # the url is different for submisisons within 10 years\n",
    "        url_to_json = f\"{base_url}CIK{leading_zeros_cik}.json\"  # and submissions over 10 years\n",
    "    else:\n",
    "        url_to_json = f\"{base_url}/{name}\"\n",
    "\n",
    "    return url_to_json\n",
    "    \n",
    "\n",
    "def generate_EDGAR_directory_listing_url(cik: str, path_to_documents: np.ndarray):\n",
    "    base_url = \"https://www.sec.gov/Archives/edgar/data/\"\n",
    "    base_url_cik = f\"{base_url}{cik}/\"\n",
    "    base_url_cik_list = np.array(base_url_cik)\n",
    "    url_to_files = np.char.add(base_url_cik_list, path_to_documents)\n",
    "\n",
    "    return url_to_files\n"
   ]
  },
  {
   "cell_type": "code",
   "execution_count": 34,
   "metadata": {},
   "outputs": [
    {
     "name": "stdout",
     "output_type": "stream",
     "text": [
      "<class 'numpy.ndarray'>\n",
      "<class 'numpy.ndarray'>\n",
      "['https://www.sec.gov/Archives/edgar/data/1397187/000139718723000012/lulu-20230129.htm'\n",
      " 'https://www.sec.gov/Archives/edgar/data/1397187/000139718722000014/lulu-20220130.htm'\n",
      " 'https://www.sec.gov/Archives/edgar/data/1397187/000139718721000009/lulu-20210131.htm'\n",
      " 'https://www.sec.gov/Archives/edgar/data/1397187/000139718720000012/lulu-20200202x10k.htm'\n",
      " 'https://www.sec.gov/Archives/edgar/data/1397187/000139718719000011/lulu-20190203x10k.htm'\n",
      " 'https://www.sec.gov/Archives/edgar/data/1397187/000139718718000013/lulu-20180128x10k.htm'\n",
      " 'https://www.sec.gov/Archives/edgar/data/1397187/000139718717000008/lulu-20170129x10k.htm'\n",
      " 'https://www.sec.gov/Archives/edgar/data/1397187/000139718716000089/lulu-20160131x10k.htm'\n",
      " 'https://www.sec.gov/Archives/edgar/data/1397187/000139718715000016/lulu-20150201x10k.htm'\n",
      " 'https://www.sec.gov/Archives/edgar/data/1397187/000139718714000021/lulu-20140202x10k.htm'\n",
      " 'https://www.sec.gov/Archives/edgar/data/1397187/000119312513118393/d475380d10k.htm'\n",
      " 'https://www.sec.gov/Archives/edgar/data/1397187/000119312512126444/d277556d10k.htm'\n",
      " 'https://www.sec.gov/Archives/edgar/data/1397187/000095012311026220/o67665e10vk.htm'\n",
      " 'https://www.sec.gov/Archives/edgar/data/1397187/000095012310028033/o60149e10vk.htm'\n",
      " 'https://www.sec.gov/Archives/edgar/data/1397187/000090956709000292/o54371e10vk.htm'\n",
      " 'https://www.sec.gov/Archives/edgar/data/1397187/000090956708000415/o39896e10vk.htm']\n"
     ]
    }
   ],
   "source": [
    "test = json_submission_scraper(\"1397187\", \"10-K\")"
   ]
  },
  {
   "cell_type": "code",
   "execution_count": 10,
   "metadata": {},
   "outputs": [
    {
     "name": "stdout",
     "output_type": "stream",
     "text": [
      "dict_keys(['accessionNumber', 'filingDate', 'reportDate', 'acceptanceDateTime', 'act', 'form', 'fileNumber', 'filmNumber', 'items', 'size', 'isXBRL', 'isInlineXBRL', 'primaryDocument', 'primaryDocDescription'])\n"
     ]
    }
   ],
   "source": [
    "test = requests.get(\"https://data.sec.gov/submissions/CIK0001397187.json\", headers=header)\n",
    "json_object = test.json()\n",
    "filings = json_object[\"filings\"]\n",
    "recent = filings[\"recent\"]\n",
    "files = filings[\"files\"]\n",
    "print(recent.keys())\n",
    "\n"
   ]
  },
  {
   "cell_type": "code",
   "execution_count": 16,
   "metadata": {},
   "outputs": [
    {
     "name": "stdout",
     "output_type": "stream",
     "text": [
      "0001397187-23-000012\n",
      "0001397187-22-000014\n",
      "0001397187-21-000009\n",
      "0001397187-20-000012\n",
      "0001397187-19-000011\n",
      "0001397187-18-000013\n",
      "0001397187-17-000008\n",
      "0001397187-16-000089\n",
      "0001397187-15-000016\n",
      "0001397187-14-000021\n",
      "0001193125-13-118393\n",
      "0001193125-12-126444\n",
      "0000950123-11-026220\n",
      "0000950123-10-028033\n"
     ]
    }
   ],
   "source": [
    "forms = np.array(recent[\"form\"])\n",
    "accessionNumber = recent[\"accessionNumber\"]\n",
    "list_of_indicies = np.where(forms == \"10-K\")[0]\n",
    "\n",
    "for index in list_of_indicies:\n",
    "    print(accessionNumber[index])\n",
    "    "
   ]
  },
  {
   "cell_type": "code",
   "execution_count": 2,
   "metadata": {},
   "outputs": [
    {
     "name": "stdout",
     "output_type": "stream",
     "text": [
      "000139718720000014\n"
     ]
    }
   ],
   "source": [
    "str = \"0001397187-20-000014\"\n",
    "test = str.replace(\"-\",\"\")\n",
    "print(test)"
   ]
  }
 ],
 "metadata": {
  "kernelspec": {
   "display_name": "base",
   "language": "python",
   "name": "python3"
  },
  "language_info": {
   "codemirror_mode": {
    "name": "ipython",
    "version": 3
   },
   "file_extension": ".py",
   "mimetype": "text/x-python",
   "name": "python",
   "nbconvert_exporter": "python",
   "pygments_lexer": "ipython3",
   "version": "3.9.12"
  }
 },
 "nbformat": 4,
 "nbformat_minor": 2
}
